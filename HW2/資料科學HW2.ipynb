{
 "cells": [
  {
   "cell_type": "code",
   "execution_count": 161,
   "metadata": {},
   "outputs": [],
   "source": [
    "import csv\n",
    "import pandas as pd\n",
    "import math\n",
    "import numpy as np\n",
    "import operator\n",
    "from sklearn.cluster import KMeans"
   ]
  },
  {
   "cell_type": "code",
   "execution_count": 162,
   "metadata": {},
   "outputs": [],
   "source": [
    "input = pd.read_csv(\"HW2_pokemon.csv\")\n",
    "input['Body_Style'] = input['Body_Style'].map({'bipedal_tailed':0, 'insectoid':1,'serpentine_body':2,'quadruped':3,'head_base':4,'multiple_bodies':5,'head_legs':6,'bipedal_tailless':7,'with_fins':8,'head_arms':9,'head_only':10,'insectoid':11,'serpentine_body':12,'several_limbs':13,'four_wings':14})\n",
    "input['Color'] = input['Color'].map({'Red':0,'Blue':1,'Green':2,'Purple':3,'Brown':4,'Yellow':5,'Pink':6,'Grey':7,'White':8,'Black':10}) "
   ]
  },
  {
   "cell_type": "code",
   "execution_count": 163,
   "metadata": {},
   "outputs": [],
   "source": [
    "input['Name'] = input['Name'].str.replace('pokemon','')\n",
    "input['Name']=pd.to_numeric(input['Name'])"
   ]
  },
  {
   "cell_type": "code",
   "execution_count": 164,
   "metadata": {},
   "outputs": [],
   "source": [
    "def data_to_np(data):                               #將dataframe格式資料以np array做轉換，方便後續的計算與預測\n",
    "    input=[]\n",
    "    for i in range(len(data)):\n",
    "        x = data.values[i]\n",
    "        input.append(x)\n",
    "    data = [np.array(datas)for datas in input]\n",
    "    data = np.array(data)\n",
    "    return data"
   ]
  },
  {
   "cell_type": "code",
   "execution_count": 165,
   "metadata": {},
   "outputs": [],
   "source": [
    "x = data_to_np(input)"
   ]
  },
  {
   "cell_type": "code",
   "execution_count": 178,
   "metadata": {},
   "outputs": [],
   "source": [
    "kmeans = KMeans(n_clusters=345).fit(x)\n",
    "labels = kmeans.labels_"
   ]
  },
  {
   "cell_type": "code",
   "execution_count": 179,
   "metadata": {},
   "outputs": [],
   "source": [
    "output = pd.read_csv(\"subject.csv\")\n",
    "output['0'] = output['0'].str.replace('pokemon','')\n",
    "output['1'] = output['1'].str.replace('pokemon','')\n",
    "output['0']=pd.to_numeric(output['0'])\n",
    "output['1']=pd.to_numeric(output['1'])"
   ]
  },
  {
   "cell_type": "code",
   "execution_count": 180,
   "metadata": {
    "scrolled": true
   },
   "outputs": [],
   "source": [
    "result=[]\n",
    "for i in range(len(output)):\n",
    "    if(labels[output['0'][i]-1]==labels[output['1'][i]-1]):\n",
    "        result.append([i,1])\n",
    "    else:\n",
    "        result.append([i,0])"
   ]
  },
  {
   "cell_type": "code",
   "execution_count": 181,
   "metadata": {},
   "outputs": [],
   "source": [
    "label = ['pair','answer']\n",
    "df = pd.DataFrame.from_records(result, columns=label)\n",
    "df.to_csv (\"result.csv\" ,index=False, encoding = \"utf-8\")"
   ]
  },
  {
   "cell_type": "code",
   "execution_count": null,
   "metadata": {},
   "outputs": [],
   "source": []
  }
 ],
 "metadata": {
  "kernelspec": {
   "display_name": "Python 3",
   "language": "python",
   "name": "python3"
  },
  "language_info": {
   "codemirror_mode": {
    "name": "ipython",
    "version": 3
   },
   "file_extension": ".py",
   "mimetype": "text/x-python",
   "name": "python",
   "nbconvert_exporter": "python",
   "pygments_lexer": "ipython3",
   "version": "3.6.4"
  }
 },
 "nbformat": 4,
 "nbformat_minor": 2
}
